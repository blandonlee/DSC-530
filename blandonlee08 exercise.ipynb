{
 "cells": [
  {
   "cell_type": "code",
   "execution_count": 74,
   "id": "bee2c7a5",
   "metadata": {},
   "outputs": [],
   "source": [
    "from __future__ import print_function, division\n",
    "import thinkstats2\n",
    "import thinkplot\n",
    "import math\n",
    "import random\n",
    "import numpy as np\n",
    "from scipy import stats\n",
    "from estimation import RMSE, MeanError\n"
   ]
  },
  {
   "cell_type": "code",
   "execution_count": 75,
   "id": "e6e984d6",
   "metadata": {},
   "outputs": [],
   "source": [
    "                                                                                                   # Computes the mean error\n",
    "def MeanError(estimates, actual):\n",
    "    errors = [estimate-actual for estimate in estimates]\n",
    "    return np.mean(errors)"
   ]
  },
  {
   "cell_type": "code",
   "execution_count": 76,
   "id": "9f719ffb",
   "metadata": {},
   "outputs": [],
   "source": [
    "                                                                                                    # Computes the root mean\n",
    "def RMSE(estimates, actual):\n",
    "    e2 = [(estimate-actual)**2 for estimate in estimates]\n",
    "    mse = np.mean(e2)\n",
    "    return math.sqrt(mse)\n"
   ]
  },
  {
   "cell_type": "code",
   "execution_count": 77,
   "id": "744d7244",
   "metadata": {},
   "outputs": [],
   "source": [
    "                                                                                            # RMSE of sample mean and median\n",
    "def Estimate1(n=7, m=1000):                                                                 \n",
    "    mu = 0\n",
    "    sigma = 1\n",
    "    means = []\n",
    "    medians = []\n",
    "    \n",
    "    for _ in range(m):\n",
    "        xs = [random.gauss(mu, sigma) for _ in range(n)]\n",
    "        xbar = np.mean(xs)\n",
    "        median = np.median(xs)\n",
    "        means.append(xbar)\n",
    "        medians.append(median)\n",
    "\n",
    "    print('Experiment 1')\n",
    "    print('rmse xbar', RMSE(means, mu))\n",
    "    print('rmse median', RMSE(medians, mu))\n",
    "\n",
    "    \n",
    "    print('mean error xbar:', MeanError(means, mu))\n",
    "    print('mean error median:', MeanError(medians, mu))"
   ]
  },
  {
   "cell_type": "code",
   "execution_count": 78,
   "id": "59cf541a",
   "metadata": {},
   "outputs": [],
   "source": [
    "                                                                                                      # Evaluates S and Sn-1\n",
    "def Estimate2(n=7, m=1000):                                                                            \n",
    "    mu = 0\n",
    "    sigma = 1\n",
    "    estimates1 = []\n",
    "    estimates2 = []\n",
    "    \n",
    "    for _ in range(m):\n",
    "        xs = [random.gauss(mu, sigma) for _ in range(n)]\n",
    "        biased = np.var(xs)\n",
    "        unbiased = np.var(xs, ddof=1)\n",
    "        estimates1.append(biased)\n",
    "        estimates2.append(unbiased)\n",
    "\n",
    "    print('Experiment 2')\n",
    "    print('mean error biased', MeanError(estimates1, sigma**2))\n",
    "    print('mean error unbiased', MeanError(estimates2, sigma**2))\n",
    "    print('RMSE estimates1', RMSE(estimates1, sigma))\n",
    "    print('RMSE estimates2', RMSE(estimates2, sigma))\n"
   ]
  },
  {
   "cell_type": "code",
   "execution_count": 79,
   "id": "313e7797",
   "metadata": {},
   "outputs": [],
   "source": [
    "                                                                                                        # Evaluates L and Lm\n",
    "def Estimate3(n=10, m=1000):   \n",
    "    lam = 2\n",
    "    means = []\n",
    "    medians = []\n",
    "    \n",
    "    for _ in range(m):\n",
    "        xs = np.random.exponential(1/lam, n)\n",
    "        L = 1 / np.mean(xs)\n",
    "        Lm = math.log(2) / np.median(xs)\n",
    "        means.append(L)\n",
    "        medians.append(Lm)\n",
    "\n",
    "    print('Experiment 3')\n",
    "    print('rmse L', RMSE(means, lam))\n",
    "    print('rmse Lm', RMSE(medians, lam))\n",
    "    print('mean error L', MeanError(means, lam))\n",
    "    print('mean error Lm', MeanError(medians, lam))\n"
   ]
  },
  {
   "cell_type": "code",
   "execution_count": 80,
   "id": "fa655bcf",
   "metadata": {},
   "outputs": [],
   "source": [
    "                                                                                           # Plots the sampling distribution\n",
    "def SimulateSample(mu=0.5, sigma=0.5, n=10, m=1000):\n",
    "    \n",
    "    def VertLine(x, y=1):\n",
    "        thinkplot.Plot([x, x], [0, y], color='0.8', linewidth=3)\n",
    "\n",
    "    means = []\n",
    "    \n",
    "    for _ in range(m):\n",
    "        xs = np.random.normal(mu, sigma, n)\n",
    "        xbar = np.mean(xs)\n",
    "        means.append(xbar)\n",
    "\n",
    "    stderr = RMSE(means, mu)\n",
    "    print('standard error', stderr)\n",
    "\n",
    "    cdf = thinkstats2.Cdf(means)\n",
    "    ci = cdf.Percentile(5), cdf.Percentile(95)\n",
    "    print('confidence interval', ci)\n",
    "    VertLine(ci[0])\n",
    "    VertLine(ci[1])\n",
    "\n",
    "                                                                                                              # plot the CDF\n",
    "    thinkplot.Cdf(cdf)\n",
    "    thinkplot.Save(root='estimation1',\n",
    "                   xlabel='sample mean',\n",
    "                   ylabel='CDF',\n",
    "                   title='Sampling distribution')\n"
   ]
  },
  {
   "cell_type": "code",
   "execution_count": 81,
   "id": "8c39924a",
   "metadata": {},
   "outputs": [],
   "source": [
    "def main():\n",
    "    thinkstats2.RandomSeed(17)\n",
    "    \n",
    "    print('First Set')\n",
    "    \n",
    "    Estimate1()\n",
    "    Estimate2()\n",
    "    Estimate3()\n",
    "    \n",
    "    print('Second Set')\n",
    "    \n",
    "    Estimate1(7, 100000)\n",
    "    Estimate2(7, 100000)\n",
    "    Estimate3(10, 100000)\n",
    "    \n",
    "    print('Simulation Sample')\n",
    "    SimulateSample()\n",
    "    SimulateSample(0.5, 0.5, 100, 100000)\n",
    "    SimulateSample(0.5, 0.5, 100, 1000)\n",
    "\n",
    "   "
   ]
  },
  {
   "cell_type": "code",
   "execution_count": 82,
   "id": "66b735ca",
   "metadata": {},
   "outputs": [
    {
     "name": "stdout",
     "output_type": "stream",
     "text": [
      "First Set\n",
      "Experiment 1\n",
      "rmse xbar 0.3775943026131758\n",
      "rmse median 0.46565656825631196\n",
      "mean error xbar: -0.003975242361441731\n",
      "mean error median: -0.0024568551198920546\n",
      "Experiment 2\n",
      "mean error biased -0.13063730714927135\n",
      "mean error unbiased 0.014256474992516754\n",
      "RMSE estimates1 0.5275828761174438\n",
      "RMSE estimates2 0.5965157762502447\n",
      "Experiment 3\n",
      "rmse L 0.8967179115445979\n",
      "rmse Lm 1.2444103701885691\n",
      "mean error L 0.281842512903533\n",
      "mean error Lm 0.2949788091848105\n",
      "Second Set\n",
      "Experiment 1\n",
      "rmse xbar 0.37760897279212874\n",
      "rmse median 0.4585231873868507\n",
      "mean error xbar: 0.000845771736731298\n",
      "mean error median: 0.000754180774977395\n",
      "Experiment 2\n",
      "mean error biased -0.1436602724639247\n",
      "mean error unbiased -0.0009369845412455029\n",
      "RMSE estimates1 0.5158469257201043\n",
      "RMSE estimates2 0.5780128957008732\n",
      "Experiment 3\n",
      "rmse L 0.8207346796525512\n",
      "rmse Lm 1.1688737533540443\n",
      "mean error L 0.22154562160158237\n",
      "mean error Lm 0.24404440500443322\n",
      "Simulation Sample\n",
      "standard error 0.1588998727719876\n",
      "confidence interval (0.23994088423082127, 0.770165375147978)\n",
      "Writing estimation1.pdf\n",
      "Writing estimation1.png\n",
      "standard error 0.04992320615344965\n",
      "confidence interval (0.41745092147056395, 0.5820871205026728)\n",
      "Writing estimation1.pdf\n",
      "Writing estimation1.png\n",
      "standard error 0.05063668000813257\n",
      "confidence interval (0.41324565170425537, 0.5836139468334415)\n",
      "Writing estimation1.pdf\n",
      "Writing estimation1.png\n"
     ]
    },
    {
     "data": {
      "text/plain": [
       "<Figure size 576x432 with 0 Axes>"
      ]
     },
     "metadata": {},
     "output_type": "display_data"
    }
   ],
   "source": [
    "if __name__ == '__main__':\n",
    "    main()"
   ]
  },
  {
   "cell_type": "code",
   "execution_count": null,
   "id": "a2e20911",
   "metadata": {},
   "outputs": [],
   "source": [
    "\"\"\"\" \n",
    "# 8-1\n",
    "\n",
    "As the mean increases xbar and median begin to decrease. Biased variance yeilds \n",
    "having lower RMSE than the unbiased and this continues as the mean increases.\n",
    "\n",
    "\"\"\"\""
   ]
  }
 ],
 "metadata": {
  "kernelspec": {
   "display_name": "Python 3 (ipykernel)",
   "language": "python",
   "name": "python3"
  },
  "language_info": {
   "codemirror_mode": {
    "name": "ipython",
    "version": 3
   },
   "file_extension": ".py",
   "mimetype": "text/x-python",
   "name": "python",
   "nbconvert_exporter": "python",
   "pygments_lexer": "ipython3",
   "version": "3.9.7"
  }
 },
 "nbformat": 4,
 "nbformat_minor": 5
}
