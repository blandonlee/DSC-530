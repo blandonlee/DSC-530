{
 "cells": [
  {
   "cell_type": "code",
   "execution_count": 29,
   "id": "d8937623",
   "metadata": {},
   "outputs": [],
   "source": [
    "from __future__ import print_function"
   ]
  },
  {
   "cell_type": "code",
   "execution_count": 30,
   "id": "a16b8b57",
   "metadata": {},
   "outputs": [],
   "source": [
    "import numpy as np\n",
    "import sys"
   ]
  },
  {
   "cell_type": "code",
   "execution_count": 31,
   "id": "553f61c6",
   "metadata": {},
   "outputs": [],
   "source": [
    "import nsfg\n",
    "import first\n",
    "import thinkstats2\n",
    "import thinkplot"
   ]
  },
  {
   "cell_type": "code",
   "execution_count": 32,
   "id": "6082aa75",
   "metadata": {},
   "outputs": [],
   "source": [
    "def PmfMean(pmf):\n",
    "    mean = 0.0\n",
    "    for x, p in pmf.d.items():\n",
    "        mean += p * x\n",
    "    return mean"
   ]
  },
  {
   "cell_type": "code",
   "execution_count": 33,
   "id": "2f5d77e3",
   "metadata": {},
   "outputs": [],
   "source": [
    "def PmfVar(pmf, mu=None):\n",
    "    if mu is None:\n",
    "        mu = pmf.Mean()\n",
    "\n",
    "    var = 0.0\n",
    "    for x, p in pmf.d.items():\n",
    "        var += p * (x - mu) ** 2\n",
    "    return var"
   ]
  },
  {
   "cell_type": "code",
   "execution_count": 34,
   "id": "7c074ab1",
   "metadata": {},
   "outputs": [],
   "source": [
    "def Diffs(t):\n",
    "    first = t[0]\n",
    "    rest = t[1:]\n",
    "    diffs = [first - x for x in rest]\n",
    "    return diffs"
   ]
  },
  {
   "cell_type": "code",
   "execution_count": 39,
   "id": "f38c09b1",
   "metadata": {},
   "outputs": [],
   "source": [
    "def PairWiseDifferences(live):\n",
    "    live = live[live.prglngth >= 37]\n",
    "    preg_map = nsfg.MakePregMap(live)\n",
    "\n",
    "    diffs = []\n",
    "    for caseid, indices in preg_map.items():\n",
    "        lengths = live.loc[indices].prglngth.values\n",
    "        if len(lengths) >= 2:\n",
    "            diffs.extend(Diffs(lengths))\n",
    "\n",
    "    mean = thinkstats2.Mean(diffs)\n",
    "    print('Mean difference between pairs', mean)\n",
    "\n",
    "    pmf = thinkstats2.Pmf(diffs)\n",
    "    thinkplot.Hist(pmf, align='center')\n",
    "    thinkplot.Show(xlabel='Difference in weeks',\n",
    "                   ylabel='PMF')"
   ]
  },
  {
   "cell_type": "code",
   "execution_count": 40,
   "id": "8f03bbfa",
   "metadata": {},
   "outputs": [],
   "source": [
    "def main(script):\n",
    "    live, firsts, others = first.MakeFrames()\n",
    "    PairWiseDifferences(live)\n",
    "\n",
    "    prglngth = live.prglngth\n",
    "    pmf = thinkstats2.Pmf(prglngth)\n",
    "    mean = PmfMean(pmf)\n",
    "    var = PmfVar(pmf)\n",
    "\n",
    "    assert(mean == pmf.Mean())\n",
    "    assert(var == pmf.Var())\n",
    "    print('mean/var preg length', mean, var)\n",
    "\n",
    "    print('%s: All tests passed.' % script)\n"
   ]
  },
  {
   "cell_type": "code",
   "execution_count": 41,
   "id": "8ca4ba33",
   "metadata": {},
   "outputs": [
    {
     "name": "stdout",
     "output_type": "stream",
     "text": [
      "Mean difference between pairs 0.18850574712643678\n"
     ]
    },
    {
     "data": {
      "image/png": "[encoded data removed]",
      "text/plain": [
       "<Figure size 432x288 with 1 Axes>"
      ]
     },
     "metadata": {
      "needs_background": "light"
     },
     "output_type": "display_data"
    },
    {
     "name": "stdout",
     "output_type": "stream",
     "text": [
      "mean/var preg length 38.56055968517709 7.301863788195439\n",
      "['C:\\\\Users\\\\bland\\\\anaconda3\\\\lib\\\\site-packages\\\\ipykernel_launcher.py', '-f', 'C:\\\\Users\\\\bland\\\\AppData\\\\Roaming\\\\jupyter\\\\runtime\\\\kernel-39e08579-bce9-4be8-9122-29bdcf5d141b.json']: All tests passed.\n"
     ]
    },
    {
     "data": {
      "text/plain": [
       "<Figure size 576x432 with 0 Axes>"
      ]
     },
     "metadata": {},
     "output_type": "display_data"
    }
   ],
   "source": [
    "if __name__ == '__main__':\n",
    "    main(sys.argv)\n"
   ]
  },
  {
   "cell_type": "code",
   "execution_count": null,
   "id": "171b5d00",
   "metadata": {},
   "outputs": [],
   "source": []
  },
  {
   "cell_type": "code",
   "execution_count": null,
   "id": "6fc4256e",
   "metadata": {},
   "outputs": [],
   "source": []
  }
 ],
 "metadata": {
  "kernelspec": {
   "display_name": "Python 3 (ipykernel)",
   "language": "python",
   "name": "python3"
  },
  "language_info": {
   "codemirror_mode": {
    "name": "ipython",
    "version": 3
   },
   "file_extension": ".py",
   "mimetype": "text/x-python",
   "name": "python",
   "nbconvert_exporter": "python",
   "pygments_lexer": "ipython3",
   "version": "3.9.7"
  }
 },
 "nbformat": 4,
 "nbformat_minor": 5
}
