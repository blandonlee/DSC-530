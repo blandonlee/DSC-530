{
 "cells": [
  {
   "cell_type": "code",
   "execution_count": 12,
   "id": "14e6146c",
   "metadata": {},
   "outputs": [],
   "source": [
    "from __future__ import print_function\n",
    "import sys\n",
    "import numpy as np\n",
    "import math\n",
    "import first\n",
    "import thinkplot\n",
    "import thinkstats2"
   ]
  },
  {
   "cell_type": "code",
   "execution_count": 13,
   "id": "51365598",
   "metadata": {},
   "outputs": [],
   "source": [
    "                                                                                                         # Saved ScatterPlot\n",
    "def ScatterPlot(ages, weights, alpha=1.0):\n",
    "    thinkplot.Scatter(ages, weights, alpha=alpha)\n",
    "    thinkplot.Config(xlabel='age (years)',\n",
    "                     ylabel='weight (lbs)',\n",
    "                     xlim=[10, 45],\n",
    "                     ylim=[0, 15],\n",
    "                     legend=False)"
   ]
  },
  {
   "cell_type": "code",
   "execution_count": 14,
   "id": "b6dbef11",
   "metadata": {},
   "outputs": [],
   "source": [
    "                                                                                                              # Saved Hexbin\n",
    "def HexBin(ages, weights, bins=None):\n",
    "    thinkplot.HexBin(ages, weights, bins=bins)\n",
    "    thinkplot.Config(xlabel='age (years)',\n",
    "                     ylabel='weight (lbs)',\n",
    "                     legend=False)"
   ]
  },
  {
   "cell_type": "code",
   "execution_count": 15,
   "id": "77724f50",
   "metadata": {},
   "outputs": [],
   "source": [
    "                                                                                                               # Binned Data\n",
    "def BinnedPercentiles(df):\n",
    "    bins = np.arange(10, 48, 3)\n",
    "    indices = np.digitize(df.agepreg, bins)\n",
    "    groups = df.groupby(indices)\n",
    "\n",
    "    ages = [group.agepreg.mean() for i, group in groups][1:-1]\n",
    "    cdfs = [thinkstats2.Cdf(group.totalwgt_lb) for i, group in groups][1:-1]\n",
    "\n",
    "    thinkplot.PrePlot(3)\n",
    "    for percent in [75, 50, 25]:\n",
    "        weights = [cdf.Percentile(percent) for cdf in cdfs]\n",
    "        label = '%dth' % percent\n",
    "        thinkplot.Plot(ages, weights, label=label)\n",
    "\n",
    "    thinkplot.Save(root='chap07scatter3',\n",
    "                   formats=['jpg'],\n",
    "                   xlabel=\"mother's age (years)\",\n",
    "                   ylabel='birth weight (lbs)')"
   ]
  },
  {
   "cell_type": "code",
   "execution_count": 16,
   "id": "15c4ff27",
   "metadata": {},
   "outputs": [],
   "source": [
    "def main():\n",
    "    thinkstats2.RandomSeed(17)\n",
    "    \n",
    "    live, firsts, others = first.MakeFrames()\n",
    "    live = live.dropna(subset=['agepreg', 'totalwgt_lb'])\n",
    "    BinnedPercentiles(live)\n",
    "\n",
    "    ages = live.agepreg\n",
    "    weights = live.totalwgt_lb\n",
    "    print('thinkstats2 Corr', thinkstats2.Corr(ages, weights))\n",
    "    print('thinkstats2 SpearmanCorr', \n",
    "          thinkstats2.SpearmanCorr(ages, weights))\n",
    "\n",
    "    ScatterPlot(ages, weights, alpha=0.1)\n",
    "    thinkplot.Save(root='chap07scatter1', \n",
    "                   legend=False,\n",
    "                   formats=['jpg'])"
   ]
  },
  {
   "cell_type": "code",
   "execution_count": 19,
   "id": "ea18a5d2",
   "metadata": {
    "scrolled": false
   },
   "outputs": [
    {
     "name": "stdout",
     "output_type": "stream",
     "text": [
      "Writing chap07scatter3.jpg\n",
      "thinkstats2 Corr 0.06883397035410911\n",
      "thinkstats2 SpearmanCorr 0.09461004109658226\n",
      "Writing chap07scatter1.jpg\n"
     ]
    },
    {
     "data": {
      "text/plain": [
       "<Figure size 576x432 with 0 Axes>"
      ]
     },
     "metadata": {},
     "output_type": "display_data"
    }
   ],
   "source": [
    "if __name__ == '__main__':\n",
    "    main()"
   ]
  },
  {
   "cell_type": "code",
   "execution_count": null,
   "id": "6ede107a",
   "metadata": {},
   "outputs": [],
   "source": [
    "\"\"\"\"\n",
    "# How would you characterize the relationship between these variables?\n",
    "\n",
    "The relationship between the variables are weak and the Correlation outcome agrees. If we round the Spearman and Pearson \n",
    "COR which is 0.09 and 0.07 respectivly it shows to be true. The percentile plotting for age and weights shows that weight\n",
    "increases for mothers at a certain point, but after that the relationship grows weaker.\n"
   ]
  }
 ],
 "metadata": {
  "kernelspec": {
   "display_name": "Python 3 (ipykernel)",
   "language": "python",
   "name": "python3"
  },
  "language_info": {
   "codemirror_mode": {
    "name": "ipython",
    "version": 3
   },
   "file_extension": ".py",
   "mimetype": "text/x-python",
   "name": "python",
   "nbconvert_exporter": "python",
   "pygments_lexer": "ipython3",
   "version": "3.9.7"
  }
 },
 "nbformat": 4,
 "nbformat_minor": 5
}
